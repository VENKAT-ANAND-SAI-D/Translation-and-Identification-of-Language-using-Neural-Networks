{
 "cells": [
  {
   "cell_type": "code",
   "execution_count": 1,
   "metadata": {},
   "outputs": [],
   "source": [
    "import string\n",
    "import re\n",
    "from numpy import array, argmax, random, take\n",
    "import pandas as pd\n",
    "from keras.models import Sequential\n",
    "from keras.layers import Dense, LSTM, Embedding, RepeatVector\n",
    "from keras.preprocessing.text import Tokenizer\n",
    "from keras.callbacks import ModelCheckpoint\n",
    "from keras.preprocessing.sequence import pad_sequences\n",
    "from keras.models import load_model\n",
    "from keras import optimizers\n",
    "import matplotlib.pyplot as plt\n",
    "%matplotlib inline\n",
    "pd.set_option('display.max_colwidth', 200)"
   ]
  },
  {
   "cell_type": "code",
   "execution_count": 2,
   "metadata": {},
   "outputs": [],
   "source": [
    "filename = 'deu.txt'\n",
    "def read_text(filename):\n",
    "        # open the file\n",
    "        file = open(filename, mode='rt', encoding='utf-8')\n",
    "        \n",
    "        # read all text\n",
    "        text = file.read()\n",
    "        file.close()\n",
    "        return text"
   ]
  },
  {
   "cell_type": "code",
   "execution_count": 3,
   "metadata": {},
   "outputs": [],
   "source": [
    "def to_lines(text):\n",
    "      sents = text.strip().split('\\n')\n",
    "      sents = [i.split('\\t') for i in sents]\n",
    "      return sents"
   ]
  },
  {
   "cell_type": "code",
   "execution_count": 4,
   "metadata": {},
   "outputs": [],
   "source": [
    "data = read_text(\"deu.txt\")\n",
    "deu_eng = to_lines(data)\n",
    "deu_eng = array(deu_eng)"
   ]
  },
  {
   "cell_type": "code",
   "execution_count": 5,
   "metadata": {},
   "outputs": [],
   "source": [
    "deu_eng = deu_eng[:50000,:]"
   ]
  },
  {
   "cell_type": "code",
   "execution_count": 6,
   "metadata": {},
   "outputs": [],
   "source": [
    "deu_eng[:,0] = [s.translate(str.maketrans('', '', string.punctuation)) for s in deu_eng[:,0]]\n",
    "deu_eng[:,1] = [s.translate(str.maketrans('', '', string.punctuation)) for s in deu_eng[:,1]]"
   ]
  },
  {
   "cell_type": "code",
   "execution_count": 7,
   "metadata": {},
   "outputs": [],
   "source": [
    "for i in range(len(deu_eng)):\n",
    "    deu_eng[i,0] = deu_eng[i,0].lower()\n",
    "    deu_eng[i,1] = deu_eng[i,1].lower()"
   ]
  },
  {
   "cell_type": "code",
   "execution_count": 8,
   "metadata": {},
   "outputs": [
    {
     "data": {
      "image/png": "[encoded data removed]",
      "text/plain": [
       "<Figure size 432x288 with 2 Axes>"
      ]
     },
     "metadata": {
      "needs_background": "light"
     },
     "output_type": "display_data"
    }
   ],
   "source": [
    "eng_l = []\n",
    "deu_l = []\n",
    "\n",
    "# populate the lists with sentence lengths\n",
    "for i in deu_eng[:,0]:\n",
    "      eng_l.append(len(i.split()))\n",
    "\n",
    "for i in deu_eng[:,1]:\n",
    "      deu_l.append(len(i.split()))\n",
    "\n",
    "length_df = pd.DataFrame({'eng':eng_l, 'deu':deu_l})\n",
    "\n",
    "length_df.hist(bins = 30)\n",
    "plt.show()"
   ]
  },
  {
   "cell_type": "code",
   "execution_count": 9,
   "metadata": {},
   "outputs": [],
   "source": [
    "def tokenization(lines):\n",
    "      tokenizer = Tokenizer()\n",
    "      tokenizer.fit_on_texts(lines)\n",
    "      return tokenizer"
   ]
  },
  {
   "cell_type": "code",
   "execution_count": 10,
   "metadata": {},
   "outputs": [
    {
     "name": "stdout",
     "output_type": "stream",
     "text": [
      "English Vocabulary Size: 6241\n"
     ]
    }
   ],
   "source": [
    "eng_tokenizer = tokenization(deu_eng[:, 0])\n",
    "eng_vocab_size = len(eng_tokenizer.word_index) + 1\n",
    "\n",
    "eng_length = 8\n",
    "print('English Vocabulary Size: %d' % eng_vocab_size)"
   ]
  },
  {
   "cell_type": "code",
   "execution_count": 11,
   "metadata": {},
   "outputs": [
    {
     "name": "stdout",
     "output_type": "stream",
     "text": [
      "Deutch Vocabulary Size: 10326\n"
     ]
    }
   ],
   "source": [
    "deu_tokenizer = tokenization(deu_eng[:, 1])\n",
    "deu_vocab_size = len(deu_tokenizer.word_index) + 1\n",
    "\n",
    "deu_length = 8\n",
    "print('Deutch Vocabulary Size: %d' % deu_vocab_size)"
   ]
  },
  {
   "cell_type": "code",
   "execution_count": 12,
   "metadata": {},
   "outputs": [],
   "source": [
    "def encode_sequences(tokenizer, length, lines):\n",
    "         # integer encode sequences\n",
    "         seq = tokenizer.texts_to_sequences(lines)\n",
    "         # pad sequences with 0 values\n",
    "         seq = pad_sequences(seq, maxlen=length, padding='post')\n",
    "         return seq"
   ]
  },
  {
   "cell_type": "code",
   "execution_count": 13,
   "metadata": {},
   "outputs": [],
   "source": [
    "from sklearn.model_selection import train_test_split\n",
    "\n",
    "# split data into train and test set\n",
    "train, test = train_test_split(deu_eng, test_size=0.2, random_state = 12)"
   ]
  },
  {
   "cell_type": "code",
   "execution_count": 14,
   "metadata": {},
   "outputs": [],
   "source": [
    "trainX = encode_sequences(deu_tokenizer, deu_length, train[:, 1])\n",
    "trainY = encode_sequences(eng_tokenizer, eng_length, train[:, 0])\n",
    "\n",
    "# prepare validation data\n",
    "testX = encode_sequences(deu_tokenizer, deu_length, test[:, 1])\n",
    "testY = encode_sequences(eng_tokenizer, eng_length, test[:, 0])"
   ]
  },
  {
   "cell_type": "code",
   "execution_count": 15,
   "metadata": {},
   "outputs": [],
   "source": [
    "def define_model(in_vocab,out_vocab, in_timesteps,out_timesteps,units):\n",
    "      model = Sequential()\n",
    "      model.add(Embedding(in_vocab, units, input_length=in_timesteps, mask_zero=True))\n",
    "      model.add(LSTM(units))\n",
    "      model.add(RepeatVector(out_timesteps))\n",
    "      model.add(LSTM(units, return_sequences=True))\n",
    "      model.add(Dense(out_vocab, activation='softmax'))\n",
    "      return model"
   ]
  },
  {
   "cell_type": "code",
   "execution_count": 16,
   "metadata": {},
   "outputs": [],
   "source": [
    "model = define_model(deu_vocab_size, eng_vocab_size, deu_length, eng_length, 512)"
   ]
  },
  {
   "cell_type": "code",
   "execution_count": 17,
   "metadata": {},
   "outputs": [],
   "source": [
    "rms = optimizers.RMSprop(lr=0.001)\n",
    "model.compile(optimizer=rms, loss='sparse_categorical_crossentropy')"
   ]
  },
  {
   "cell_type": "code",
   "execution_count": 18,
   "metadata": {},
   "outputs": [
    {
     "name": "stdout",
     "output_type": "stream",
     "text": [
      "Epoch 1/30\n",
      "63/63 [==============================] - ETA: 0s - loss: 3.4129\n",
      "Epoch 00001: val_loss improved from inf to 2.94206, saving model to model.h1.24_jan_19\n",
      "WARNING:tensorflow:From C:\\Users\\anand\\Anaconda3\\lib\\site-packages\\tensorflow\\python\\training\\tracking\\tracking.py:111: Model.state_updates (from tensorflow.python.keras.engine.training) is deprecated and will be removed in a future version.\n",
      "Instructions for updating:\n",
      "This property should not be used in TensorFlow 2.0, as updates are applied automatically.\n",
      "WARNING:tensorflow:From C:\\Users\\anand\\Anaconda3\\lib\\site-packages\\tensorflow\\python\\training\\tracking\\tracking.py:111: Layer.updates (from tensorflow.python.keras.engine.base_layer) is deprecated and will be removed in a future version.\n",
      "Instructions for updating:\n",
      "This property should not be used in TensorFlow 2.0, as updates are applied automatically.\n",
      "INFO:tensorflow:Assets written to: model.h1.24_jan_19\\assets\n",
      "63/63 [==============================] - 220s 3s/step - loss: 3.4129 - val_loss: 2.9421\n",
      "Epoch 2/30\n",
      "63/63 [==============================] - ETA: 0s - loss: 2.7681\n",
      "Epoch 00002: val_loss improved from 2.94206 to 2.72961, saving model to model.h1.24_jan_19\n",
      "INFO:tensorflow:Assets written to: model.h1.24_jan_19\\assets\n",
      "63/63 [==============================] - 223s 4s/step - loss: 2.7681 - val_loss: 2.7296\n",
      "Epoch 3/30\n",
      "63/63 [==============================] - ETA: 0s - loss: 2.5742\n",
      "Epoch 00003: val_loss improved from 2.72961 to 2.52730, saving model to model.h1.24_jan_19\n",
      "INFO:tensorflow:Assets written to: model.h1.24_jan_19\\assets\n",
      "63/63 [==============================] - 223s 4s/step - loss: 2.5742 - val_loss: 2.5273\n",
      "Epoch 4/30\n",
      "63/63 [==============================] - ETA: 0s - loss: 2.3964\n",
      "Epoch 00004: val_loss improved from 2.52730 to 2.47326, saving model to model.h1.24_jan_19\n",
      "INFO:tensorflow:Assets written to: model.h1.24_jan_19\\assets\n",
      "63/63 [==============================] - 225s 4s/step - loss: 2.3964 - val_loss: 2.4733\n",
      "Epoch 5/30\n",
      "63/63 [==============================] - ETA: 0s - loss: 2.2551\n",
      "Epoch 00005: val_loss improved from 2.47326 to 2.29211, saving model to model.h1.24_jan_19\n",
      "INFO:tensorflow:Assets written to: model.h1.24_jan_19\\assets\n",
      "63/63 [==============================] - 226s 4s/step - loss: 2.2551 - val_loss: 2.2921\n",
      "Epoch 6/30\n",
      "63/63 [==============================] - ETA: 0s - loss: 2.1236\n",
      "Epoch 00006: val_loss improved from 2.29211 to 2.19524, saving model to model.h1.24_jan_19\n",
      "INFO:tensorflow:Assets written to: model.h1.24_jan_19\\assets\n",
      "63/63 [==============================] - 227s 4s/step - loss: 2.1236 - val_loss: 2.1952\n",
      "Epoch 7/30\n",
      "63/63 [==============================] - ETA: 0s - loss: 2.0020\n",
      "Epoch 00007: val_loss improved from 2.19524 to 2.11207, saving model to model.h1.24_jan_19\n",
      "INFO:tensorflow:Assets written to: model.h1.24_jan_19\\assets\n",
      "63/63 [==============================] - 228s 4s/step - loss: 2.0020 - val_loss: 2.1121\n",
      "Epoch 8/30\n",
      "63/63 [==============================] - ETA: 0s - loss: 1.8867\n",
      "Epoch 00008: val_loss improved from 2.11207 to 2.02311, saving model to model.h1.24_jan_19\n",
      "INFO:tensorflow:Assets written to: model.h1.24_jan_19\\assets\n",
      "63/63 [==============================] - 225s 4s/step - loss: 1.8867 - val_loss: 2.0231\n",
      "Epoch 9/30\n",
      "63/63 [==============================] - ETA: 0s - loss: 1.7788\n",
      "Epoch 00009: val_loss improved from 2.02311 to 1.93632, saving model to model.h1.24_jan_19\n",
      "INFO:tensorflow:Assets written to: model.h1.24_jan_19\\assets\n",
      "63/63 [==============================] - 228s 4s/step - loss: 1.7788 - val_loss: 1.9363\n",
      "Epoch 10/30\n",
      "63/63 [==============================] - ETA: 0s - loss: 1.6714\n",
      "Epoch 00010: val_loss improved from 1.93632 to 1.87553, saving model to model.h1.24_jan_19\n",
      "INFO:tensorflow:Assets written to: model.h1.24_jan_19\\assets\n",
      "63/63 [==============================] - 228s 4s/step - loss: 1.6714 - val_loss: 1.8755\n",
      "Epoch 11/30\n",
      "63/63 [==============================] - ETA: 0s - loss: 1.5719\n",
      "Epoch 00011: val_loss improved from 1.87553 to 1.80655, saving model to model.h1.24_jan_19\n",
      "INFO:tensorflow:Assets written to: model.h1.24_jan_19\\assets\n",
      "63/63 [==============================] - 227s 4s/step - loss: 1.5719 - val_loss: 1.8066\n",
      "Epoch 12/30\n",
      "63/63 [==============================] - ETA: 0s - loss: 1.4732\n",
      "Epoch 00012: val_loss improved from 1.80655 to 1.73748, saving model to model.h1.24_jan_19\n",
      "INFO:tensorflow:Assets written to: model.h1.24_jan_19\\assets\n",
      "63/63 [==============================] - 227s 4s/step - loss: 1.4732 - val_loss: 1.7375\n",
      "Epoch 13/30\n",
      "63/63 [==============================] - ETA: 0s - loss: 1.3820\n",
      "Epoch 00013: val_loss improved from 1.73748 to 1.68083, saving model to model.h1.24_jan_19\n",
      "INFO:tensorflow:Assets written to: model.h1.24_jan_19\\assets\n",
      "63/63 [==============================] - 227s 4s/step - loss: 1.3820 - val_loss: 1.6808\n",
      "Epoch 14/30\n",
      "63/63 [==============================] - ETA: 0s - loss: 1.2937\n",
      "Epoch 00014: val_loss improved from 1.68083 to 1.62067, saving model to model.h1.24_jan_19\n",
      "INFO:tensorflow:Assets written to: model.h1.24_jan_19\\assets\n",
      "63/63 [==============================] - 224s 4s/step - loss: 1.2937 - val_loss: 1.6207\n",
      "Epoch 15/30\n",
      "63/63 [==============================] - ETA: 0s - loss: 1.2093\n",
      "Epoch 00015: val_loss improved from 1.62067 to 1.59583, saving model to model.h1.24_jan_19\n",
      "INFO:tensorflow:Assets written to: model.h1.24_jan_19\\assets\n",
      "63/63 [==============================] - 227s 4s/step - loss: 1.2093 - val_loss: 1.5958\n",
      "Epoch 16/30\n",
      "63/63 [==============================] - ETA: 0s - loss: 1.1336\n",
      "Epoch 00016: val_loss improved from 1.59583 to 1.54499, saving model to model.h1.24_jan_19\n",
      "INFO:tensorflow:Assets written to: model.h1.24_jan_19\\assets\n",
      "63/63 [==============================] - 225s 4s/step - loss: 1.1336 - val_loss: 1.5450\n",
      "Epoch 17/30\n",
      "63/63 [==============================] - ETA: 0s - loss: 1.0578\n",
      "Epoch 00017: val_loss improved from 1.54499 to 1.50182, saving model to model.h1.24_jan_19\n",
      "INFO:tensorflow:Assets written to: model.h1.24_jan_19\\assets\n",
      "63/63 [==============================] - 229s 4s/step - loss: 1.0578 - val_loss: 1.5018\n",
      "Epoch 18/30\n",
      "63/63 [==============================] - ETA: 0s - loss: 0.9855\n",
      "Epoch 00018: val_loss improved from 1.50182 to 1.48088, saving model to model.h1.24_jan_19\n",
      "INFO:tensorflow:Assets written to: model.h1.24_jan_19\\assets\n",
      "63/63 [==============================] - 229s 4s/step - loss: 0.9855 - val_loss: 1.4809\n",
      "Epoch 19/30\n",
      "63/63 [==============================] - ETA: 0s - loss: 0.9209\n",
      "Epoch 00019: val_loss improved from 1.48088 to 1.43738, saving model to model.h1.24_jan_19\n",
      "INFO:tensorflow:Assets written to: model.h1.24_jan_19\\assets\n",
      "63/63 [==============================] - 231s 4s/step - loss: 0.9209 - val_loss: 1.4374\n",
      "Epoch 20/30\n",
      "63/63 [==============================] - ETA: 0s - loss: 0.8562\n",
      "Epoch 00020: val_loss improved from 1.43738 to 1.41637, saving model to model.h1.24_jan_19\n",
      "INFO:tensorflow:Assets written to: model.h1.24_jan_19\\assets\n",
      "63/63 [==============================] - 229s 4s/step - loss: 0.8562 - val_loss: 1.4164\n",
      "Epoch 21/30\n",
      "63/63 [==============================] - ETA: 0s - loss: 0.7946\n",
      "Epoch 00021: val_loss improved from 1.41637 to 1.39390, saving model to model.h1.24_jan_19\n",
      "INFO:tensorflow:Assets written to: model.h1.24_jan_19\\assets\n",
      "63/63 [==============================] - 220s 3s/step - loss: 0.7946 - val_loss: 1.3939\n",
      "Epoch 22/30\n",
      "63/63 [==============================] - ETA: 0s - loss: 0.7389\n",
      "Epoch 00022: val_loss improved from 1.39390 to 1.36833, saving model to model.h1.24_jan_19\n",
      "INFO:tensorflow:Assets written to: model.h1.24_jan_19\\assets\n",
      "63/63 [==============================] - 228s 4s/step - loss: 0.7389 - val_loss: 1.3683\n",
      "Epoch 23/30\n",
      "63/63 [==============================] - ETA: 0s - loss: 0.6836\n",
      "Epoch 00023: val_loss improved from 1.36833 to 1.35492, saving model to model.h1.24_jan_19\n",
      "INFO:tensorflow:Assets written to: model.h1.24_jan_19\\assets\n",
      "63/63 [==============================] - 230s 4s/step - loss: 0.6836 - val_loss: 1.3549\n",
      "Epoch 24/30\n",
      "63/63 [==============================] - ETA: 0s - loss: 0.6331\n",
      "Epoch 00024: val_loss improved from 1.35492 to 1.33388, saving model to model.h1.24_jan_19\n",
      "INFO:tensorflow:Assets written to: model.h1.24_jan_19\\assets\n"
     ]
    },
    {
     "name": "stdout",
     "output_type": "stream",
     "text": [
      "63/63 [==============================] - 229s 4s/step - loss: 0.6331 - val_loss: 1.3339\n",
      "Epoch 25/30\n",
      "63/63 [==============================] - ETA: 0s - loss: 0.5861\n",
      "Epoch 00025: val_loss improved from 1.33388 to 1.32625, saving model to model.h1.24_jan_19\n",
      "INFO:tensorflow:Assets written to: model.h1.24_jan_19\\assets\n",
      "63/63 [==============================] - 231s 4s/step - loss: 0.5861 - val_loss: 1.3262\n",
      "Epoch 26/30\n",
      "63/63 [==============================] - ETA: 0s - loss: 0.5381\n",
      "Epoch 00026: val_loss improved from 1.32625 to 1.31272, saving model to model.h1.24_jan_19\n",
      "INFO:tensorflow:Assets written to: model.h1.24_jan_19\\assets\n",
      "63/63 [==============================] - 234s 4s/step - loss: 0.5381 - val_loss: 1.3127\n",
      "Epoch 27/30\n",
      "63/63 [==============================] - ETA: 0s - loss: 0.4972\n",
      "Epoch 00027: val_loss improved from 1.31272 to 1.30003, saving model to model.h1.24_jan_19\n",
      "INFO:tensorflow:Assets written to: model.h1.24_jan_19\\assets\n",
      "63/63 [==============================] - 229s 4s/step - loss: 0.4972 - val_loss: 1.3000\n",
      "Epoch 28/30\n",
      "63/63 [==============================] - ETA: 0s - loss: 0.4551\n",
      "Epoch 00028: val_loss improved from 1.30003 to 1.29028, saving model to model.h1.24_jan_19\n",
      "INFO:tensorflow:Assets written to: model.h1.24_jan_19\\assets\n",
      "63/63 [==============================] - 229s 4s/step - loss: 0.4551 - val_loss: 1.2903\n",
      "Epoch 29/30\n",
      "63/63 [==============================] - ETA: 0s - loss: 0.4199\n",
      "Epoch 00029: val_loss improved from 1.29028 to 1.28116, saving model to model.h1.24_jan_19\n",
      "INFO:tensorflow:Assets written to: model.h1.24_jan_19\\assets\n",
      "63/63 [==============================] - 229s 4s/step - loss: 0.4199 - val_loss: 1.2812\n",
      "Epoch 30/30\n",
      "63/63 [==============================] - ETA: 0s - loss: 0.3844\n",
      "Epoch 00030: val_loss did not improve from 1.28116\n",
      "63/63 [==============================] - 217s 3s/step - loss: 0.3844 - val_loss: 1.2855\n"
     ]
    }
   ],
   "source": [
    "filename = 'model.h1.24_jan_19'\n",
    "checkpoint = ModelCheckpoint(filename, monitor='val_loss', verbose=1, save_best_only=True, mode='min')\n",
    "\n",
    "# train model\n",
    "history = model.fit(trainX, trainY.reshape(trainY.shape[0], trainY.shape[1], 1),\n",
    "                    epochs=30, batch_size=512, validation_split = 0.2,callbacks=[checkpoint], \n",
    "                    verbose=1)"
   ]
  },
  {
   "cell_type": "code",
   "execution_count": 19,
   "metadata": {},
   "outputs": [
    {
     "data": {
      "image/png": "[encoded data removed]",
      "text/plain": [
       "<Figure size 432x288 with 1 Axes>"
      ]
     },
     "metadata": {
      "needs_background": "light"
     },
     "output_type": "display_data"
    }
   ],
   "source": [
    "plt.plot(history.history['loss'])\n",
    "plt.plot(history.history['val_loss'])\n",
    "plt.legend(['train','validation'])\n",
    "plt.show()"
   ]
  },
  {
   "cell_type": "code",
   "execution_count": 20,
   "metadata": {},
   "outputs": [
    {
     "name": "stdout",
     "output_type": "stream",
     "text": [
      "WARNING:tensorflow:From <ipython-input-20-aaf5ce307e3e>:2: Sequential.predict_classes (from tensorflow.python.keras.engine.sequential) is deprecated and will be removed after 2021-01-01.\n",
      "Instructions for updating:\n",
      "Please use instead:* `np.argmax(model.predict(x), axis=-1)`,   if your model does multi-class classification   (e.g. if it uses a `softmax` last-layer activation).* `(model.predict(x) > 0.5).astype(\"int32\")`,   if your model does binary classification   (e.g. if it uses a `sigmoid` last-layer activation).\n"
     ]
    }
   ],
   "source": [
    "model = load_model('model.h1.24_jan_19')\n",
    "preds = model.predict_classes(testX.reshape((testX.shape[0],testX.shape[1])))"
   ]
  },
  {
   "cell_type": "code",
   "execution_count": 21,
   "metadata": {},
   "outputs": [],
   "source": [
    "def get_word(n, tokenizer):\n",
    "      for word, index in tokenizer.word_index.items():\n",
    "          if index == n:\n",
    "              return word\n",
    "      return None"
   ]
  },
  {
   "cell_type": "code",
   "execution_count": 22,
   "metadata": {},
   "outputs": [],
   "source": [
    "preds_text = []\n",
    "for i in preds:\n",
    "       temp = []\n",
    "       for j in range(len(i)):\n",
    "            t = get_word(i[j], eng_tokenizer)\n",
    "            if j > 0:\n",
    "                if (t == get_word(i[j-1], eng_tokenizer)) or (t == None):\n",
    "                     temp.append('')\n",
    "                else:\n",
    "                     temp.append(t)\n",
    "            else:\n",
    "                   if(t == None):\n",
    "                          temp.append('')\n",
    "                   else:\n",
    "                          temp.append(t) \n",
    "\n",
    "       preds_text.append(' '.join(temp))"
   ]
  },
  {
   "cell_type": "code",
   "execution_count": 23,
   "metadata": {},
   "outputs": [],
   "source": [
    "pred_df = pd.DataFrame({'actual' : test[:,0], 'predicted' : preds_text})"
   ]
  },
  {
   "cell_type": "code",
   "execution_count": 24,
   "metadata": {},
   "outputs": [
    {
     "data": {
      "text/html": [
       "<div>\n",
       "<style scoped>\n",
       "    .dataframe tbody tr th:only-of-type {\n",
       "        vertical-align: middle;\n",
       "    }\n",
       "\n",
       "    .dataframe tbody tr th {\n",
       "        vertical-align: top;\n",
       "    }\n",
       "\n",
       "    .dataframe thead th {\n",
       "        text-align: right;\n",
       "    }\n",
       "</style>\n",
       "<table border=\"1\" class=\"dataframe\">\n",
       "  <thead>\n",
       "    <tr style=\"text-align: right;\">\n",
       "      <th></th>\n",
       "      <th>actual</th>\n",
       "      <th>predicted</th>\n",
       "    </tr>\n",
       "  </thead>\n",
       "  <tbody>\n",
       "    <tr>\n",
       "      <th>4490</th>\n",
       "      <td>tom seemed sleepy</td>\n",
       "      <td>tom seemed tired</td>\n",
       "    </tr>\n",
       "    <tr>\n",
       "      <th>157</th>\n",
       "      <td>i didnt strangle tom</td>\n",
       "      <td>i didnt hated tom</td>\n",
       "    </tr>\n",
       "    <tr>\n",
       "      <th>4338</th>\n",
       "      <td>i know that voice</td>\n",
       "      <td>i know that guy</td>\n",
       "    </tr>\n",
       "    <tr>\n",
       "      <th>4139</th>\n",
       "      <td>let me have a look</td>\n",
       "      <td>let see</td>\n",
       "    </tr>\n",
       "    <tr>\n",
       "      <th>4950</th>\n",
       "      <td>he was shy at first</td>\n",
       "      <td>he was born poor dogs</td>\n",
       "    </tr>\n",
       "    <tr>\n",
       "      <th>4400</th>\n",
       "      <td>i love horses</td>\n",
       "      <td>i love spinach</td>\n",
       "    </tr>\n",
       "    <tr>\n",
       "      <th>629</th>\n",
       "      <td>i want toms money</td>\n",
       "      <td>i want the money</td>\n",
       "    </tr>\n",
       "    <tr>\n",
       "      <th>3955</th>\n",
       "      <td>wear warm clothes</td>\n",
       "      <td>turn on the robe</td>\n",
       "    </tr>\n",
       "    <tr>\n",
       "      <th>2136</th>\n",
       "      <td>tom was objective</td>\n",
       "      <td>tom was confused</td>\n",
       "    </tr>\n",
       "    <tr>\n",
       "      <th>519</th>\n",
       "      <td>he offered to help me</td>\n",
       "      <td>he told me to</td>\n",
       "    </tr>\n",
       "    <tr>\n",
       "      <th>7521</th>\n",
       "      <td>wood burns easily</td>\n",
       "      <td>italy is easy</td>\n",
       "    </tr>\n",
       "    <tr>\n",
       "      <th>8352</th>\n",
       "      <td>he has small feet</td>\n",
       "      <td>hes has small feet</td>\n",
       "    </tr>\n",
       "    <tr>\n",
       "      <th>9010</th>\n",
       "      <td>look at this photo</td>\n",
       "      <td>look at the picture</td>\n",
       "    </tr>\n",
       "    <tr>\n",
       "      <th>6557</th>\n",
       "      <td>i live in boston</td>\n",
       "      <td>i live in boston</td>\n",
       "    </tr>\n",
       "    <tr>\n",
       "      <th>2739</th>\n",
       "      <td>she walks</td>\n",
       "      <td>she started</td>\n",
       "    </tr>\n",
       "  </tbody>\n",
       "</table>\n",
       "</div>"
      ],
      "text/plain": [
       "                     actual                 predicted\n",
       "4490      tom seemed sleepy     tom seemed tired     \n",
       "157    i didnt strangle tom     i didnt hated tom    \n",
       "4338      i know that voice       i know that guy    \n",
       "4139     let me have a look             let see      \n",
       "4950    he was shy at first  he was born poor dogs   \n",
       "4400          i love horses       i love spinach     \n",
       "629       i want toms money      i want the money    \n",
       "3955      wear warm clothes      turn on the robe    \n",
       "2136      tom was objective     tom was confused     \n",
       "519   he offered to help me         he told me to    \n",
       "7521      wood burns easily        italy is easy     \n",
       "8352      he has small feet    hes has small feet    \n",
       "9010     look at this photo   look at the picture    \n",
       "6557       i live in boston      i live in boston    \n",
       "2739              she walks         she started      "
      ]
     },
     "execution_count": 24,
     "metadata": {},
     "output_type": "execute_result"
    }
   ],
   "source": [
    "pred_df.sample(15)"
   ]
  },
  {
   "cell_type": "code",
   "execution_count": null,
   "metadata": {},
   "outputs": [],
   "source": []
  }
 ],
 "metadata": {
  "kernelspec": {
   "display_name": "Python 3",
   "language": "python",
   "name": "python3"
  },
  "language_info": {
   "codemirror_mode": {
    "name": "ipython",
    "version": 3
   },
   "file_extension": ".py",
   "mimetype": "text/x-python",
   "name": "python",
   "nbconvert_exporter": "python",
   "pygments_lexer": "ipython3",
   "version": "3.7.4"
  }
 },
 "nbformat": 4,
 "nbformat_minor": 4
}
